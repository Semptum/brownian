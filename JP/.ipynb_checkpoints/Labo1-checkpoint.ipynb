{
 "cells": [
  {
   "cell_type": "markdown",
   "metadata": {},
   "source": [
    "# Mouvement brownien d'une particule colloïdale\n",
    "## Séance 1"
   ]
  },
  {
   "cell_type": "code",
   "execution_count": 8,
   "metadata": {},
   "outputs": [],
   "source": [
    "from Analyse import *\n",
    "%matplotlib inline"
   ]
  },
  {
   "cell_type": "markdown",
   "metadata": {},
   "source": [
    "On effectue d'abord les importations necessaires."
   ]
  },
  {
   "cell_type": "code",
   "execution_count": 9,
   "metadata": {},
   "outputs": [],
   "source": [
    "binning=1\n",
    "agrandissement=20\n",
    "frequence=400"
   ]
  },
  {
   "cell_type": "markdown",
   "metadata": {},
   "source": [
    "Ici on précise les constantes comme p.ex. la taille $a$ des billes"
   ]
  },
  {
   "cell_type": "code",
   "execution_count": 10,
   "metadata": {},
   "outputs": [
    {
     "ename": "NameError",
     "evalue": "name 'Ainit' is not defined",
     "output_type": "error",
     "traceback": [
      "\u001b[0;31m---------------------------------------------------------------------------\u001b[0m",
      "\u001b[0;31mNameError\u001b[0m                                 Traceback (most recent call last)",
      "\u001b[0;32m<ipython-input-10-67eba105aacb>\u001b[0m in \u001b[0;36m<module>\u001b[0;34m()\u001b[0m\n\u001b[1;32m      2\u001b[0m \u001b[0mtemp\u001b[0m\u001b[0;34m=\u001b[0m\u001b[0;36m293\u001b[0m \u001b[0;31m#Temperature en K\u001b[0m\u001b[0;34m\u001b[0m\u001b[0m\n\u001b[1;32m      3\u001b[0m \u001b[0mkb\u001b[0m\u001b[0;34m=\u001b[0m\u001b[0;36m1.38e-11\u001b[0m \u001b[0;31m#Constante de Boltzmann en unités adaptées\u001b[0m\u001b[0;34m\u001b[0m\u001b[0m\n\u001b[0;32m----> 4\u001b[0;31m \u001b[0mfile\u001b[0m\u001b[0;34m,\u001b[0m\u001b[0mNbobjets\u001b[0m\u001b[0;34m=\u001b[0m\u001b[0mAinit\u001b[0m\u001b[0;34m(\u001b[0m\u001b[0;34m\"nico_1.mat\"\u001b[0m\u001b[0;34m)\u001b[0m\u001b[0;34m\u001b[0m\u001b[0m\n\u001b[0m",
      "\u001b[0;31mNameError\u001b[0m: name 'Ainit' is not defined"
     ]
    }
   ],
   "source": [
    "diametre=1 #Taille des billes en µm\n",
    "temp=293 #Temperature en K\n",
    "kb=1.38e-11 #Constante de Boltzmann en unités adaptées\n",
    "file,Nbobjets=init(\"nico_1.mat\")"
   ]
  },
  {
   "cell_type": "markdown",
   "metadata": {},
   "source": [
    "Capture de la trajectoire de la particule i. Ainsi on la capte pour une particule dont la longueur de trajectoire est assez grande (>1000). Et puis on la trace:"
   ]
  },
  {
   "cell_type": "code",
   "execution_count": null,
   "metadata": {},
   "outputs": [],
   "source": [
    "i=2\n",
    "n=0\n",
    "while n<1000:\n",
    "    x,y,t,n=take(i,binning,agrandissement,frequence)\n",
    "    i+=1\n",
    "plot(x,y)\n",
    "plt.axis('equal')\n",
    "plt.xlabel(\"Deplacement selon X\")\n",
    "plt.ylabel(\"Deplacement selon Y\")\n",
    "plt.show()"
   ]
  },
  {
   "cell_type": "markdown",
   "metadata": {},
   "source": [
    "On observe un mouvement qui semble chaotique. Si on regarde juste ou va la particule entre deux moments de temps, voici l'histogramme de la repartitions des deplacements entre deux cadres:"
   ]
  },
  {
   "cell_type": "code",
   "execution_count": null,
   "metadata": {},
   "outputs": [],
   "source": [
    "dx=x[1:]-x[:-1]\n",
    "dy=y[1:]-y[:-1]\n",
    "h, a,b , p = plt.hist2d(dx,dy, 30)\n",
    "plt.clf()\n",
    "plt.imshow(h, interpolation = \"gaussian\",extent=(a[0],a[-1],b[0],b[-1]))\n",
    "plt.show()\n",
    "print(\"La moyenne se trouve en (\"+str(dx.mean())+\",\"+str(dy.mean())+\")\")"
   ]
  },
  {
   "cell_type": "markdown",
   "metadata": {},
   "source": [
    "On observe quelque chose assez centré, ressemblant a une gaussienne. On va le montrer dans quelques instants."
   ]
  },
  {
   "cell_type": "markdown",
   "metadata": {},
   "source": [
    "Calcul de l'autocorrelation et du mean square distance. Montrons que le mouvement est en effet chaotique, calculons l'autocorrelation du vecteur deplacement:"
   ]
  },
  {
   "cell_type": "code",
   "execution_count": null,
   "metadata": {},
   "outputs": [],
   "source": [
    "Corr=autocorr(dx)+autocorr(dy)\n",
    "plt.semilogx(range(1,len(Corr)+1),Corr)\n",
    "plt.xlabel(\"Nombre de pas effectué\")\n",
    "plt.ylabel(\"Correlation du pas effectué avec le pas 0\")\n",
    "plt.show()"
   ]
  },
  {
   "cell_type": "markdown",
   "metadata": {},
   "source": [
    "Montrons desormais que la repartition est bien gaussienne."
   ]
  },
  {
   "cell_type": "code",
   "execution_count": null,
   "metadata": {},
   "outputs": [],
   "source": [
    "nbins=32\n",
    "plt.subplot(2, 1, 1)\n",
    "dxval,dxhist,histpolyX=GaussianHisto(dx,nbins)\n",
    "pos=dxhist>0\n",
    "Max,Min=dxval.max(),dxval.min()\n",
    "size=(Max-Min)/dxhist.shape[0]*0.8\n",
    "plt.bar(dxval[np.where(pos)],dxhist[np.where(pos)],size)\n",
    "Xval=np.linspace(Min,Max,100)\n",
    "HXval=histpolyX(Xval)\n",
    "pos=HXval>0\n",
    "plt.plot(Xval[np.where(pos)],HXval[np.where(pos)],color=\"red\")\n",
    "\n",
    "plt.subplot(2, 1, 2)\n",
    "dyval,dyhist,histpolyY=GaussianHisto(dy,nbins)\n",
    "pos=dyhist>0\n",
    "Max,Min=dyval.max(),dyval.min()\n",
    "size=(Max-Min)/dyhist.shape[0]*0.8\n",
    "plt.bar(dyval[np.where(pos)],dyhist[np.where(pos)],size)\n",
    "Yval=np.linspace(Min,Max,100)\n",
    "HYval=histpolyY(Yval)\n",
    "pos=HYval>0\n",
    "plt.plot(Yval[np.where(pos)],HYval[np.where(pos)],color=\"red\")\n",
    "plt.show()\n",
    "print(\"On trouve un sigma de \"+str(sigma(histpolyX))+\" pour x\")\n",
    "print(\"On trouve un sigma de \"+str(sigma(histpolyY))+\" pour y\")\n"
   ]
  },
  {
   "cell_type": "markdown",
   "metadata": {},
   "source": [
    "On repasse en version non logarithmique et on regarde l'histogramme:"
   ]
  },
  {
   "cell_type": "code",
   "execution_count": null,
   "metadata": {},
   "outputs": [],
   "source": [
    "plt.subplot(2, 1, 1)\n",
    "plt.hist(dx,nbins)\n",
    "plt.plot(Xval,np.exp(histpolyX(Xval)),color=\"red\")\n",
    "plt.show()\n",
    "plt.subplot(2, 1, 2)\n",
    "plt.hist(dy,nbins)\n",
    "plt.plot(Yval,np.exp(histpolyY(Yval)),color=\"red\")\n",
    "plt.show()\n",
    "st.moment"
   ]
  },
  {
   "cell_type": "markdown",
   "metadata": {},
   "source": [
    "On peut calculer la largeur $\\sigma$ pour plusieures valeurs de $\\tau$:"
   ]
  },
  {
   "cell_type": "code",
   "execution_count": null,
   "metadata": {},
   "outputs": [],
   "source": [
    "Tau,S2=sigma2fromtau(x,y,t)\n",
    "plt.plot(Tau,S2)\n",
    "plt.xlabel(\"Temps $\\tau$\")\n",
    "plt.ylabel(\"$\\sigma^2$\")\n",
    "plt.show()"
   ]
  },
  {
   "cell_type": "markdown",
   "metadata": {},
   "source": [
    "On peut aussi par exemple tracer le $msd=<X^2>$ d'une des particules:"
   ]
  },
  {
   "cell_type": "code",
   "execution_count": null,
   "metadata": {},
   "outputs": [],
   "source": [
    "T,msdX=msd(x)\n",
    "ok=(T>0)*(msdX>0)\n",
    "T,msdX=T[np.where(ok)],msdX[np.where(ok)]\n",
    "Tp,msdY=msd(y)\n",
    "okp=(Tp>0)*(msdY>0)\n",
    "Tp,msdY=Tp[np.where(ok)],msdY[np.where(ok)]\n",
    "plt.plot(T,(msdX+msdY))\n",
    "plt.xlabel(\"Temps (s)\")\n",
    "plt.ylabel(\"$msd^2$ ($\\mu$m)\")\n",
    "plt.show()"
   ]
  },
  {
   "cell_type": "markdown",
   "metadata": {},
   "source": [
    "On peut aussi tracer cela en échelle log-log. En effet, la théorie prédit un accroissement linéaire de pente 1."
   ]
  },
  {
   "cell_type": "code",
   "execution_count": null,
   "metadata": {},
   "outputs": [],
   "source": [
    "tot=T<6\n",
    "p=np.poly1d(np.polyfit(np.log(T[np.where(tot)]),np.log(msdX[np.where(tot)]),1))\n",
    "plt.loglog(T,msdX)\n",
    "plt.plot(T,np.exp(p(np.log(T))))\n",
    "plt.xlabel(\"Temps (s)\")\n",
    "plt.ylabel(\"MSD ($\\mu$m)\")\n",
    "plt.ylim((1e-3,10))\n",
    "plt.show()\n",
    "print(\"On trouve une pente de \"+str(p[1]))"
   ]
  },
  {
   "cell_type": "markdown",
   "metadata": {},
   "source": [
    "Ces fonctions calculent le déplacement effectué entre un moment $t$ et un moment $t+\\tau$"
   ]
  },
  {
   "cell_type": "code",
   "execution_count": null,
   "metadata": {},
   "outputs": [],
   "source": [
    "k=10\n",
    "dkx=x[k:]-x[:-k]\n",
    "dky=y[k:]-y[:-k]\n",
    "h, a,b , p = plt.hist2d(dkx,dky, 30)\n",
    "plt.clf()\n",
    "plt.imshow(h, interpolation = \"gaussian\",extent=(a[0],a[-1],b[0],b[-1]))\n",
    "plt.title(\"Déplacement au bout de \"+str(k)+\" pas\")\n",
    "plt.show()"
   ]
  },
  {
   "cell_type": "markdown",
   "metadata": {},
   "source": [
    "Grace a cela on peut calculer la position moyenne de la particule apres $n$ pas:"
   ]
  },
  {
   "cell_type": "code",
   "execution_count": null,
   "metadata": {},
   "outputs": [],
   "source": [
    "kmax=1000\n",
    "D=diffusion(sigma(histpolyY)**2+sigma(histpolyX)**2)\n",
    "Xmoy=np.zeros(kmax)\n",
    "for k in range(kmax):\n",
    "    Xmoy[k]=positionmoyenne(k,x,y)\n",
    "Xmoyn=np.zeros(kmax)\n",
    "for k in range(kmax):\n",
    "    Xmoyn[k]=positionmoyenne(k,x,y,sliding=False)\n",
    "plt.plot(t[:k+1],Xmoyn)\n",
    "plt.plot(t[:k+1],Xmoy)\n",
    "plt.plot(t[:k+1],np.sqrt(4*D*t[:k+1]))\n",
    "plt.legend([\"Non slidé\",\"Slidé\",\"Théorie\"])\n",
    "plt.xlabel(\"Temps (s)\")\n",
    "plt.ylabel(\"Distance au centre moyenne\")\n",
    "plt.show()\n",
    "print(\"La viscosité est \"+str(viscosity(D)*1e6))\n",
    "print(\"D est \"+str(D)+\" Pa.s\")"
   ]
  },
  {
   "cell_type": "markdown",
   "metadata": {},
   "source": [
    "Faisons juste une petite verification que l'algo de detection est honette"
   ]
  },
  {
   "cell_type": "markdown",
   "metadata": {},
   "source": [
    "On peut au fait recoller plusieurs traj pour avoir plus de stat meme si ca n'apporte pas plus d'info"
   ]
  },
  {
   "cell_type": "code",
   "execution_count": null,
   "metadata": {},
   "outputs": [],
   "source": [
    "MSD=np.zeros(4000)\n",
    "i=0\n",
    "for i in np.arange(Nbobjets):\n",
    "    x,y,t,n=take(i)\n",
    "    if n==4000:\n",
    "        i+=1\n",
    "        x-=x[0]\n",
    "        y-=y[0]\n",
    "        r=(x**2+y**2)\n",
    "        MSD+=msd(r)[1]\n",
    "        T=t\n",
    "MSD/=i\n",
    "plt.plot(T,MSD)"
   ]
  },
  {
   "cell_type": "code",
   "execution_count": null,
   "metadata": {},
   "outputs": [],
   "source": []
  }
 ],
 "metadata": {
  "kernelspec": {
   "display_name": "Python 3",
   "language": "python",
   "name": "python3"
  },
  "language_info": {
   "codemirror_mode": {
    "name": "ipython",
    "version": 3
   },
   "file_extension": ".py",
   "mimetype": "text/x-python",
   "name": "python",
   "nbconvert_exporter": "python",
   "pygments_lexer": "ipython3",
   "version": "3.6.3"
  }
 },
 "nbformat": 4,
 "nbformat_minor": 2
}
