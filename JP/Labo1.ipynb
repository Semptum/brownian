{
 "cells": [
  {
   "cell_type": "markdown",
   "metadata": {},
   "source": [
    "# Mouvement brownien d'une particule colloïdale\n",
    "## Séance 1"
   ]
  },
  {
   "cell_type": "code",
   "execution_count": 240,
   "metadata": {},
   "outputs": [],
   "source": [
    "import scipy.io as sio\n",
    "import numpy as np\n",
    "import matplotlib.pyplot as plt\n",
    "import scipy.stats as st\n",
    "%matplotlib inline"
   ]
  },
  {
   "cell_type": "code",
   "execution_count": 241,
   "metadata": {},
   "outputs": [],
   "source": [
    "File=\"nico_1.mat\"\n",
    "file=sio.loadmat(File)\n",
    "Nbobjets = max(file['objs_link'][3])\n",
    "longueurminimale=int(1e3)"
   ]
  },
  {
   "cell_type": "code",
   "execution_count": 242,
   "metadata": {},
   "outputs": [],
   "source": [
    "binning=1\n",
    "agrandissement=20\n",
    "PixelSize=binning*(6450/agrandissement)*1e-3 # en um\n",
    "frequence=400\n",
    "a=1\n",
    "temp=293\n",
    "kb=1.38e-11"
   ]
  },
  {
   "cell_type": "code",
   "execution_count": 243,
   "metadata": {},
   "outputs": [],
   "source": [
    "def take(i):\n",
    "    x1=file['objs_link'][0,:][np.where(file['objs_link'][5,:]==i)]*PixelSize\n",
    "    y1 = file['objs_link'][1,:][np.where(file['objs_link'][5,:]==i)]*PixelSize\n",
    "    dureetrajectoire=x1.shape[0]\n",
    "    print(\"Trajectory acquired for particle \"+str(i))\n",
    "    T=np.arange(dureetrajectoire)/frequence\n",
    "    return x1,y1,T,dureetrajectoire"
   ]
  },
  {
   "cell_type": "markdown",
   "metadata": {},
   "source": [
    "Capture de la trajectoire de la particule i."
   ]
  },
  {
   "cell_type": "code",
   "execution_count": 244,
   "metadata": {},
   "outputs": [],
   "source": [
    "def autocorr(x,formsd=False):\n",
    "    fftx = np.fft.fft(x, n=(x.shape[0]*2-1), axis=0)\n",
    "    cfftx=np.conjugate(fftx)\n",
    "    ret = np.real(np.fft.ifft(fftx*cfftx, axis=0))\n",
    "    result = np.fft.fftshift(ret, axes=0)\n",
    "    result = np.correlate(x, x, mode='full')\n",
    "    if formsd:\n",
    "        N=result.size//2+1\n",
    "        return result[result.size//2:]/(N-np.arange(0,N))\n",
    "    return result[result.size//2:]\n",
    "\n",
    "def msd(r):\n",
    "    N=r.shape[0]\n",
    "    D=r**2\n",
    "    D=np.append(D,0)\n",
    "    S2=autocorr(r,True)\n",
    "    Q=2*D.sum()\n",
    "    S1=np.zeros(N)\n",
    "    for m in range(N):\n",
    "        Q=Q-D[m-1]-D[N-m]\n",
    "        S1[m]=Q/(N-m)\n",
    "    return np.arange(N)/frequence,S1-2*S2"
   ]
  },
  {
   "cell_type": "markdown",
   "metadata": {},
   "source": [
    "Calcul de l'autocorrelation et du mean square distance. Les deux retournent juste l'array du resultat."
   ]
  },
  {
   "cell_type": "code",
   "execution_count": 245,
   "metadata": {},
   "outputs": [],
   "source": [
    "def deltax(r):\n",
    "    DeltaX=np.zeros((N,N))\n",
    "    for i in range(N):\n",
    "        DeltaX[i,:N-i-1]=r[i+1:]-r[:-i-1]\n",
    "    return DeltaX\n",
    "\n",
    "def truedelta(r,k):\n",
    "    return r[k::k]-r[:-k:k]\n",
    "\n",
    "def GaussianHisto(dx,n=30):\n",
    "    \"\"\"\n",
    "    Fonction qui calcule l'histogramme supposé gaussien et le fite\n",
    "    \"\"\"\n",
    "    a,b=np.histogram(dx,n)\n",
    "    x,y=(b[1:]+b[:-1])/2,np.log(a+0.1)\n",
    "    p = np.poly1d(np.polyfit(x,y,2,w=(y>1)*y))\n",
    "    return x,y,p\n",
    "\n",
    "def slowcorr(x,mul=np.dot):\n",
    "    \"\"\"\n",
    "    Fonction inutile qui calcule la correlation. Présente pour archivage\n",
    "    \"\"\"\n",
    "    n=x.shape[0]\n",
    "    R=np.zeros(n)\n",
    "    for j in range(n):\n",
    "        arr=[mul(x[k],x[k-j]) for k in range(j,n)]\n",
    "        R[j]=sum(arr)\n",
    "    return R\n",
    "\n",
    "\n",
    "\n",
    "def test(k,X=None,Y=None,r0=0.1):\n",
    "    \"\"\"\n",
    "    Fonction qui calcule la repartition des proba de position apres k pas en utilisant une echelle spatiale de r0 \n",
    "    \"\"\"\n",
    "    if X!=None:\n",
    "        dkX=X[k+1:]-X[:-k-1]\n",
    "    else:\n",
    "        dkX=dx[k][:-k-1]\n",
    "    if Y!=None:\n",
    "        dkY=Y[k+1:]-Y[:-k-1]\n",
    "    else:\n",
    "        dkY=dy[k][:-k-1]\n",
    "\n",
    "    ddr=np.array([dkX,dkY]).T\n",
    "    x,y=ddr[:,0],ddr[:,1]\n",
    "    d=(x**2+y**2)**0.5\n",
    "    n=int(d.max()/r0)\n",
    "    return np.histogram(d,n)\n",
    "\n",
    "def positionmoyenne(k,X=None,Y=None,r0=0.1,sq=1):\n",
    "    \"\"\"\n",
    "    Calcule l'esperance de la distance du départ en fonction du nombre de pas\n",
    "    \"\"\"\n",
    "    a,b=test(k,X,Y,r0)\n",
    "    x=(b[:-1]+b[1:])/2\n",
    "    return np.average(x**sq,weights=a)\n",
    "\n",
    "def hist2D(k,n=100):\n",
    "    plt.hist2d(dx[k][:-k-1],dy[k][:-k-1],n)\n",
    "\n",
    "\n",
    "def concatenate(ilist=np.arange(Nbobjets)+1):\n",
    "    X=[0]\n",
    "    Y=[0]\n",
    "    N=0\n",
    "    for i in ilist:\n",
    "        a=take(i)\n",
    "        if a[-1]>longueurminimale:\n",
    "            x1,y1,t,n=a\n",
    "            X+=list(x1-x1[0]+X[-1])[1:]\n",
    "            Y+=list(y1-y1[0]+Y[-1])[1:]\n",
    "            N+=n\n",
    "    T=np.arange(N)/frequence\n",
    "    return np.array(X),np.array(Y),T,N\n",
    "\n",
    "def distmoy(i,kmax=1000):\n",
    "    x1,y1,T,N=take(i)\n",
    "    D=[]\n",
    "    for i in range(kmax):\n",
    "        D+=[positionmoyenne(i,x1,y1,sq=2)]\n",
    "    D1=np.array(D)\n",
    "    a,D2=msd((x1**2+y1**2)**0.5)\n",
    "    plt.plot(D1**2)\n",
    "    plt.plot(D2**2)"
   ]
  },
  {
   "cell_type": "code",
   "execution_count": 246,
   "metadata": {},
   "outputs": [
    {
     "name": "stdout",
     "output_type": "stream",
     "text": [
      "Trajectory acquired for particle 1.0\n",
      "Trajectory acquired for particle 2.0\n",
      "Trajectory acquired for particle 3.0\n",
      "Trajectory acquired for particle 4.0\n",
      "Trajectory acquired for particle 5.0\n",
      "Trajectory acquired for particle 6.0\n",
      "Trajectory acquired for particle 7.0\n",
      "Trajectory acquired for particle 8.0\n",
      "Trajectory acquired for particle 9.0\n",
      "Trajectory acquired for particle 10.0\n",
      "Trajectory acquired for particle 11.0\n",
      "Trajectory acquired for particle 12.0\n",
      "Trajectory acquired for particle 13.0\n",
      "Trajectory acquired for particle 14.0\n",
      "Trajectory acquired for particle 15.0\n",
      "Trajectory acquired for particle 16.0\n",
      "Trajectory acquired for particle 17.0\n",
      "Trajectory acquired for particle 18.0\n",
      "Trajectory acquired for particle 19.0\n",
      "Trajectory acquired for particle 20.0\n",
      "Trajectory acquired for particle 21.0\n"
     ]
    },
    {
     "data": {
      "text/plain": [
       "[<matplotlib.lines.Line2D at 0x7f9f96829048>]"
      ]
     },
     "execution_count": 246,
     "metadata": {},
     "output_type": "execute_result"
    },
    {
     "data": {
      "image/png": "[encoded data removed]",
      "text/plain": [
       "<matplotlib.figure.Figure at 0x7f9f965fcd30>"
      ]
     },
     "metadata": {},
     "output_type": "display_data"
    }
   ],
   "source": [
    "X,Y,T,N=concatenate()\n",
    "plt.plot(X,Y)"
   ]
  },
  {
   "cell_type": "code",
   "execution_count": 247,
   "metadata": {},
   "outputs": [],
   "source": [
    "T,MSD=msd((X**2+Y**2)**0.5)\n",
    "T,MSD=T[1:],MSD[1:]"
   ]
  },
  {
   "cell_type": "code",
   "execution_count": 248,
   "metadata": {},
   "outputs": [
    {
     "data": {
      "text/plain": [
       "[<matplotlib.lines.Line2D at 0x7f9f965fcef0>]"
      ]
     },
     "execution_count": 248,
     "metadata": {},
     "output_type": "execute_result"
    },
    {
     "data": {
      "image/png": "[encoded data removed]",
      "text/plain": [
       "<matplotlib.figure.Figure at 0x7f9f965fce10>"
      ]
     },
     "metadata": {},
     "output_type": "display_data"
    }
   ],
   "source": [
    "logT,logMSD=np.log(T),np.log(MSD)\n",
    "p=np.poly1d(np.polyfit(logT,logMSD,1,w=logT<2))\n",
    "plt.plot(logT,logMSD)\n",
    "plt.plot(logT,p(logT))"
   ]
  },
  {
   "cell_type": "code",
   "execution_count": 249,
   "metadata": {},
   "outputs": [
    {
     "data": {
      "text/plain": [
       "1.0053392412293554"
      ]
     },
     "execution_count": 249,
     "metadata": {},
     "output_type": "execute_result"
    }
   ],
   "source": [
    "p[1]"
   ]
  },
  {
   "cell_type": "code",
   "execution_count": 250,
   "metadata": {},
   "outputs": [
    {
     "data": {
      "text/plain": [
       "[<matplotlib.lines.Line2D at 0x7f9f967d7cc0>]"
      ]
     },
     "execution_count": 250,
     "metadata": {},
     "output_type": "execute_result"
    },
    {
     "data": {
      "image/png": "[encoded data removed]",
      "text/plain": [
       "<matplotlib.figure.Figure at 0x7f9f96730be0>"
      ]
     },
     "metadata": {},
     "output_type": "display_data"
    }
   ],
   "source": [
    "dx=X[1:]-X[:-1]\n",
    "dy=Y[1:]-Y[:-1]\n",
    "x,y,p1=GaussianHisto(dx,100)\n",
    "plt.plot(x,y)\n",
    "plt.plot(x,p1(x))\n",
    "x,y,p2=GaussianHisto(dy,100)\n",
    "plt.plot(x,y)\n",
    "plt.plot(x,p2(x))"
   ]
  },
  {
   "cell_type": "code",
   "execution_count": 251,
   "metadata": {},
   "outputs": [],
   "source": [
    "def sigma(p):\n",
    "    return (-1/p[2]/2)**0.5\n",
    "def diffusion(sigma2):\n",
    "    return sigma2/4*frequence\n",
    "def viscosity(D):\n",
    "    return kb*temp/(6*np.pi*a*D)"
   ]
  },
  {
   "cell_type": "code",
   "execution_count": 252,
   "metadata": {},
   "outputs": [
    {
     "data": {
      "text/plain": [
       "0.69212780195001433"
      ]
     },
     "execution_count": 252,
     "metadata": {},
     "output_type": "execute_result"
    }
   ],
   "source": [
    "sx=sigma(GaussianHisto(dx,100)[2])\n",
    "sy=sigma(GaussianHisto(dy,100)[2])\n",
    "viscosity(diffusion(sx**2+sy**2))*1e9"
   ]
  },
  {
   "cell_type": "code",
   "execution_count": 253,
   "metadata": {},
   "outputs": [
    {
     "data": {
      "image/png": "[encoded data removed]",
      "text/plain": [
       "<matplotlib.figure.Figure at 0x7f9f96175390>"
      ]
     },
     "metadata": {},
     "output_type": "display_data"
    }
   ],
   "source": [
    "e=plt.hist(X-np.floor(X),100)"
   ]
  },
  {
   "cell_type": "code",
   "execution_count": 254,
   "metadata": {},
   "outputs": [
    {
     "data": {
      "text/plain": [
       "(poly1d([ -3.22025267e+02,   1.16011031e-01,   7.51373111e+00]),\n",
       " poly1d([ -3.23290648e+02,  -2.44591072e-02,   7.49463821e+00]))"
      ]
     },
     "execution_count": 254,
     "metadata": {},
     "output_type": "execute_result"
    }
   ],
   "source": [
    "p1,p2"
   ]
  },
  {
   "cell_type": "code",
   "execution_count": null,
   "metadata": {},
   "outputs": [],
   "source": []
  },
  {
   "cell_type": "code",
   "execution_count": null,
   "metadata": {},
   "outputs": [],
   "source": []
  }
 ],
 "metadata": {
  "kernelspec": {
   "display_name": "Python 3",
   "language": "python",
   "name": "python3"
  },
  "language_info": {
   "codemirror_mode": {
    "name": "ipython",
    "version": 3
   },
   "file_extension": ".py",
   "mimetype": "text/x-python",
   "name": "python",
   "nbconvert_exporter": "python",
   "pygments_lexer": "ipython3",
   "version": "3.6.3"
  }
 },
 "nbformat": 4,
 "nbformat_minor": 2
}
